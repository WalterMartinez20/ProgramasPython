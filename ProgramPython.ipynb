{
  "nbformat": 4,
  "nbformat_minor": 0,
  "metadata": {
    "colab": {
      "name": "ProgramPython.ipynb",
      "provenance": [],
      "collapsed_sections": [],
      "authorship_tag": "ABX9TyOL0beEYgwDcMhn2LUN17WE",
      "include_colab_link": true
    },
    "kernelspec": {
      "name": "python3",
      "display_name": "Python 3"
    },
    "language_info": {
      "name": "python"
    }
  },
  "cells": [
    {
      "cell_type": "markdown",
      "metadata": {
        "id": "view-in-github",
        "colab_type": "text"
      },
      "source": [
        "<a href=\"https://colab.research.google.com/github/WalterMartinez20/ProgramasPython/blob/main/ProgramPython.ipynb\" target=\"_parent\"><img src=\"https://colab.research.google.com/assets/colab-badge.svg\" alt=\"Open In Colab\"/></a>"
      ]
    },
    {
      "cell_type": "code",
      "execution_count": null,
      "metadata": {
        "id": "jKExNV0SwYFl"
      },
      "outputs": [],
      "source": [
        "print(\"Hola Mundo\", \"Bienvenidos a programacion computacional III\", \"Walter Martinez - SMIS133220\")"
      ]
    },
    {
      "cell_type": "code",
      "source": [
        "nombre = \"Walter Alberto Martinez Medrano\"\n",
        "print(\"Hola\", nombre, nombre[2], type(nombre))\n",
        "\n",
        "nombre = 25\n",
        "print(\"Tu edad es:\", type(nombre))"
      ],
      "metadata": {
        "id": "3jP46raTw62x"
      },
      "execution_count": null,
      "outputs": []
    },
    {
      "cell_type": "code",
      "source": [
        "programacion = True\n",
        "diseno = False\n",
        "print(\"Te gusta Progra\", programacion, \"Te gusta diseño\", diseno, type(programacion))"
      ],
      "metadata": {
        "id": "MkhKwr9LlA0m"
      },
      "execution_count": null,
      "outputs": []
    },
    {
      "cell_type": "code",
      "source": [
        "edad = int(input(\"Dime tu edad: \"))\n",
        "if edad >= 18: #Esta comparacion da un valor booleano\n",
        "  print(\"Eres un adulto, tienes responsabilidades...\")\n",
        "else:\n",
        "  print(\"Eres libre\")"
      ],
      "metadata": {
        "id": "FMOuzB66lLrN"
      },
      "execution_count": null,
      "outputs": []
    },
    {
      "cell_type": "code",
      "source": [
        "def suma(num1, num2):\n",
        "  resp = num1 + num2\n",
        "  return resp\n",
        "print(\"La suma es: \", suma(5,6))"
      ],
      "metadata": {
        "id": "qCc0ePGkU6X2"
      },
      "execution_count": null,
      "outputs": []
    },
    {
      "cell_type": "code",
      "source": [
        "sumaNumeros = lambda num1, num2: num1 + num2 #funciones anonimas\n",
        "print(\"Suma:\", sumaNumeros(4, 6))"
      ],
      "metadata": {
        "id": "81rdJFIdVZfg"
      },
      "execution_count": null,
      "outputs": []
    },
    {
      "cell_type": "code",
      "source": [
        "def cuadrado(num):\n",
        "  return num**2\n",
        "\n",
        "def cubo(num):\n",
        "  return num**3\n",
        "\n",
        "numeros = [5,4,7,8,-4,-9] #array unidimensional\n",
        "\n",
        "numCuadrado = list(map(cuadrado, numeros))\n",
        "numxDos = list(map(lambda num: num*2, numeros))\n",
        "numCubo = list(map(cubo, numeros))\n",
        "\n",
        "print(\"Elevar al cuadrado:\", numCuadrado, \"x2:\", numxDos, \"x3:\", numCubo)\n"
      ],
      "metadata": {
        "id": "_6PJz3dQVt9h"
      },
      "execution_count": null,
      "outputs": []
    },
    {
      "cell_type": "code",
      "source": [
        "def pares(num):\n",
        "  return num%2==0\n",
        "\n",
        "pares = list(filter(pares, numeros)) #usando filter dejamos solo los pares\n",
        "print(\"pares\",pares)\n",
        "\n",
        "def impares(num):\n",
        "  return num%2!=0\n",
        "\n",
        "impares = list(filter(impares, numeros))\n",
        "print(\"impares\",impares)"
      ],
      "metadata": {
        "id": "nWjuVK-6cWsj"
      },
      "execution_count": null,
      "outputs": []
    },
    {
      "cell_type": "code",
      "source": [
        "#conversor de celsius a farenheit\n",
        "def cF(C):\n",
        "  return C * 9/5 + 32\n",
        "\n",
        "c = float(input(\"Grados C: \"))\n",
        "print(\"Grados C a Farenheit:\", cF(c), \"°F\")"
      ],
      "metadata": {
        "id": "SGiU14n_u2MO"
      },
      "execution_count": null,
      "outputs": []
    },
    {
      "cell_type": "code",
      "source": [
        "#convertir celsius a farenheit con lambda\n",
        "convertirF = lambda C: C * 9/5 + 32\n",
        "\n",
        "celsius = float(input(\"Grados C: \"))\n",
        "\n",
        "print(\"Grados C a Farenheit:\", convertirF(celsius), \"°F\")"
      ],
      "metadata": {
        "id": "T4Q9-A0dwy4C"
      },
      "execution_count": null,
      "outputs": []
    },
    {
      "cell_type": "code",
      "source": [
        "gradosC = [27,30,35,40,45]\n",
        "grados = lambda c: c * 1.8 + 32\n",
        "farenheit = list(map(grados, gradosC))\n",
        "print(farenheit)"
      ],
      "metadata": {
        "id": "KY8pX3ka0wgs"
      },
      "execution_count": null,
      "outputs": []
    },
    {
      "cell_type": "code",
      "source": [
        "#convertir de farenheit a celsius\n",
        "gradosF = [80.6, 86.0, 95.0, 104.0, 113.0]\n",
        "grados = lambda F: (F-32) * 5/9\n",
        "celsius = list(map(grados, gradosF))\n",
        "print(celsius)"
      ],
      "metadata": {
        "id": "Lz8oTSYd3_nW"
      },
      "execution_count": null,
      "outputs": []
    },
    {
      "cell_type": "code",
      "source": [
        "#Hacer un algoritmo en python que convierta de Celsius a Kelvin y viceversa\n",
        "#Celsius a Kelvin\n",
        "convertirK = lambda C: C + 273.15\n",
        "celsius = float(input(\"Celsius: \"))\n",
        "print(\"Celsius a Kelvin:\", convertirK(celsius), \"K\")"
      ],
      "metadata": {
        "id": "l0oLPnWr6Ql6"
      },
      "execution_count": null,
      "outputs": []
    },
    {
      "cell_type": "code",
      "source": [
        "#Kelvin a Celsius\n",
        "convertirC = lambda K: K - 273.15\n",
        "kelvin = float(input(\"Kelvin: \"))\n",
        "print(\"Kelvin a Celsius:\", convertirC(kelvin), \"C\")"
      ],
      "metadata": {
        "id": "oz_VHvpM2Sjt"
      },
      "execution_count": null,
      "outputs": []
    },
    {
      "cell_type": "code",
      "source": [
        "numeros = [5,7,9,6,8,7,3] #Se declara y usa con corchetes\n",
        "print(\"Lista original\", \" Buscando:\", numeros[numeros.index(3)], numeros[0])\n",
        "numeros[0] = 4\n",
        "print(\"Nuevo valor: \", numeros[0])"
      ],
      "metadata": {
        "id": "5kIC8av4nL8C"
      },
      "execution_count": null,
      "outputs": []
    },
    {
      "cell_type": "code",
      "source": [
        "edades = (2,5,12,18,65,100) #Una tupla es inmutable, se declara con parentesis\n",
        "print(\"Las edades:\", edades, edades[0])\n",
        "#edades[0] = 0 #NO puedo cambiar su valor, y se usa con corchetes\n",
        "print(\"Nuevo Valor\", edades[0])"
      ],
      "metadata": {
        "colab": {
          "base_uri": "https://localhost:8080/"
        },
        "id": "oohCv96ungYO",
        "outputId": "6afda8dc-333b-4494-884b-bee6131a276f"
      },
      "execution_count": null,
      "outputs": [
        {
          "output_type": "stream",
          "name": "stdout",
          "text": [
            "Las edades: (2, 5, 12, 18, 65, 100) 2\n",
            "Nuevo Valor 2\n"
          ]
        }
      ]
    },
    {
      "cell_type": "code",
      "source": [
        "print(\"Edades:\", edades, \"Filtrar solo mayores de edad:\", tuple(filter(lambda num: num>=18, edades)))"
      ],
      "metadata": {
        "id": "jjOkX-AToBOV"
      },
      "execution_count": null,
      "outputs": []
    },
    {
      "cell_type": "code",
      "source": [
        "buscando = int(input(\"Valor: \"))\n",
        "print(\"Edades: \", edades, \"Buscando el numero:\", buscando, \"esta en la posicion:\", edades.index(buscando))"
      ],
      "metadata": {
        "id": "mtFltV00n8uL"
      },
      "execution_count": null,
      "outputs": []
    },
    {
      "cell_type": "code",
      "source": [
        "notas = [5, 4, 10, 7.8, 9]\n",
        "print(\"Mis Notas:\", notas, \"Notas sobresalientes:\", list(filter(lambda n:n>=9, notas)))"
      ],
      "metadata": {
        "id": "qR5dkyxqoF2X"
      },
      "execution_count": null,
      "outputs": []
    },
    {
      "cell_type": "code",
      "source": [
        "notasCiclo = [\n",
        "    [5,6,6],\n",
        "    [8,7,10],\n",
        "    [10,10,10]\n",
        "]\n",
        "print(\"Mis Notas\", notasCiclo, \"C1:\", notasCiclo[0], \"C2:\", notasCiclo[1], \"C3:\", notasCiclo[2], \"PC1:\", notasCiclo[0][2])"
      ],
      "metadata": {
        "id": "G6GNgY5PoI1X"
      },
      "execution_count": null,
      "outputs": []
    },
    {
      "cell_type": "code",
      "source": [
        "materias = [\n",
        "    [ #Progra\n",
        "      [5,6,[10,8]],#c1\n",
        "      [5,7,8],#c2\n",
        "      [6,7,6] #c3\n",
        "    ],\n",
        "    [ #Diseño\n",
        "      [10,9,10], #c1\n",
        "      [10,10,8], #c2\n",
        "      [10,10,10] #c3\n",
        "    ],\n",
        "    [ #Redes\n",
        "      [8,7,8], #c1\n",
        "      [7,9.23,9], #c2\n",
        "      [8,7,9]  #c3\n",
        "    ]\n",
        "]\n",
        "print(\"Progra: C1 - P\", (materias[0][0][2][0] + materias[0][0][2][1])/2, \"; Redes C2, Lab2:\", materias[2][1][1])"
      ],
      "metadata": {
        "id": "Oza_Y6oBoTLQ"
      },
      "execution_count": null,
      "outputs": []
    },
    {
      "cell_type": "code",
      "source": [
        "misMaterias = {} #los diccionarios (json) se definen con llaves y se usan con corchetes\n",
        "misNotas = {\n",
        "    \"Progra I\":{\n",
        "        \"CI\": {\n",
        "            \"Lab1\": 5,\n",
        "            \"Lab2\": 6,\n",
        "            \"Parcial\": [10,8]\n",
        "        },\n",
        "        \"CII\":{\n",
        "            \"Lab1\": 5,\n",
        "            \"Lab2\": 7,\n",
        "            \"Parcial\": 8\n",
        "        },\n",
        "        \"CIII\":{\n",
        "            \"Lab1\":6,\n",
        "            \"Lab2\":7,\n",
        "            \"Parcial\":6\n",
        "        }\n",
        "    },\n",
        "    \"Diseño\":{\n",
        "        \"CI\": {\n",
        "            \"Lab1\": 10,\n",
        "            \"Lab2\": 9,\n",
        "            \"Parcial\": 10\n",
        "        },\n",
        "        \"CII\":{\n",
        "            \"Lab1\": 10,\n",
        "            \"Lab2\": 10,\n",
        "            \"Parcial\": 8\n",
        "        },\n",
        "        \"CIII\":{\n",
        "            \"Lab1\":10,\n",
        "            \"Lab2\":10,\n",
        "            \"Parcial\":10\n",
        "        }\n",
        "    }\n",
        "}\n",
        "print(misNotas[\"Progra I\"][\"CI\"][\"Parcial\"], misNotas[\"Diseño\"][\"CII\"][\"Lab2\"])"
      ],
      "metadata": {
        "id": "4nr2G5X3oe0O"
      },
      "execution_count": null,
      "outputs": []
    },
    {
      "cell_type": "code",
      "source": [
        "#Conversores: (40%) (10 ítems como mínimo por cada uno). Monedas (Resuelto en clases)\n",
        "\n",
        "respuesta = input(\"Ver menu:\\n\")\n",
        "while respuesta == \"si\":\n",
        "\n",
        "  monedas = [\"dolares\", \"quetzales\", \"pesos mexicanos\", \"colon Salvadoreño\", \"pesos argentinos\", \"pesos chilenos\", \"pesos colombianos\", \"pesos uruguayos\", \"lempiras\", \"Yenes\"]\n",
        "  print(\"-\"*40)\n",
        "  for i in monedas:\n",
        "    print(i)\n",
        "\n",
        "  print(\"-\"*40)\n",
        "  print(\"Escribe la moneda que deseas convertir:\")\n",
        "  mo1 = input(\"Pasar de: \")\n",
        "  val1 = float(input(\"Escribe la cantidad de \" + mo1 + \" \\n\"))\n",
        "\n",
        "  if mo1 == \"dolares\":\n",
        "    mo2 = input(\"convertir a: \")\n",
        "\n",
        "    if mo2 == \"quetzales\":\n",
        "      conver = lambda D: D * 7.74\n",
        "      print(val1, \"dolar/es es igual a\", conver(val1), mo2)\n",
        "      respuesta = input(\"Deseas seguir viendo el menu \")\n",
        "\n",
        "  elif mo1 == \"quetzales\":\n",
        "    mo2 = input(\"convertir a: \")\n",
        "\n",
        "    if mo2 == \"pesos mexicanos\":\n",
        "      conver = lambda D: D * 2.57\n",
        "      print(val1, mo1, \"es igual a\", conver(val1), mo2)\n",
        "      respuesta = input(\"Deseas seguir viendo el menu \")\n",
        "\n",
        "  elif mo1 == \"pesos mexicanos\":\n",
        "    mo2 = input(\"convertir a: \")\n",
        "\n",
        "    if mo2 == \"colones salvadoreños\":\n",
        "      conver = lambda D: D * 0.44\n",
        "      print(val1, mo1, \"es igual a\", conver(val1), mo2)\n",
        "      respuesta = input(\"Deseas seguir viendo el menu \")\n",
        "\n",
        "  elif mo1 == \"colones salvadoreños\":\n",
        "    mo2 = input(\"convertir a: \")\n",
        "\n",
        "    if mo2 == \"pesos argentinos\":\n",
        "      conver = lambda D: D * 15.47\n",
        "      print(val1, mo1, \"es igual a\", conver(val1), mo2)\n",
        "      respuesta = input(\"Deseas seguir viendo el menu \")\n",
        "\n",
        "\n",
        "  elif mo1 == \"pesos argentinos\":\n",
        "    mo2 = input(\"convertir a: \")\n",
        "\n",
        "    if mo2 == \"pesos chilenos\":\n",
        "      conver = lambda D: D * 6.52\n",
        "      print(val1, mo1, \"es igual a\", conver(val1), mo2)\n",
        "      respuesta = input(\"Deseas seguir viendo el menu \")\n",
        "\n",
        "\n",
        "  elif mo1 == \"pesos chilenos\":\n",
        "    mo2 = input(\"convertir a: \")\n",
        "\n",
        "    if mo2 == \"pesos colombianos\":\n",
        "      conver = lambda D: D * 4.81\n",
        "      print(val1, mo1, \"es igual a\", conver(val1), mo2)\n",
        "      respuesta = input(\"Deseas seguir viendo el menu \")\n",
        "\n",
        "\n",
        "  elif mo1 == \"pesos colombianos\":\n",
        "    mo2 = input(\"convertir a: \")\n",
        "\n",
        "    if mo2 == \"pesos uruguayos\":\n",
        "      conver = lambda D: D * 0.0097\n",
        "      print(val1, mo1, \"es igual a\", conver(val1), mo2)\n",
        "      respuesta = input(\"Deseas seguir viendo el menu \")\n",
        "\n",
        "\n",
        "  elif mo1 == \"pesos uruguayos\":\n",
        "    mo2 = input(\"convertir a: \")\n",
        "\n",
        "    if mo2 == \"lempiras\":\n",
        "      conver = lambda D: D * 0.61\n",
        "      print(val1, mo1, \"es igual a\", conver(val1), mo2)\n",
        "      respuesta = input(\"Deseas seguir viendo el menu \")\n",
        "\n",
        "\n",
        "  elif mo1 == \"lempiras\":\n",
        "    mo2=input(\"convertir a: \")\n",
        "\n",
        "    if mo2 == \"Yenes\":\n",
        "      conver = lambda D: D * 5.47\n",
        "      print(val1, mo1, \"es igual a\", conver(val1), mo2)\n",
        "      respuesta = input(\"Deseas seguir viendo el menu \")\n",
        "\n",
        "  else: print(\"Moneda no valida\")\n",
        "print(\"Has salido del menu\")"
      ],
      "metadata": {
        "id": "XTQXxhys5c70"
      },
      "execution_count": null,
      "outputs": []
    },
    {
      "cell_type": "code",
      "source": [
        "#Calcular el valor a pagar según el número de metros consumidos de agua potable (Ver tabla en la siguiente diapositiva). (20%)\n",
        "respuesta = input(\"Ver menu:\\n\")\n",
        "#r=\"si\"\n",
        "while respuesta == \"si\":\n",
        "  mts = int(input(\"Escribe la cantida de metros consumidos: \"))\n",
        "  if mts >= 1 and mts <= 18:\n",
        "    calc = lambda m:m*6\n",
        "    print(\"cuota de 1 - 18\")\n",
        "    print(\"Total $:\", calc(mts), \"\\n\")\n",
        "    respuesta = input(\"Deseas seguir viendo el menu \")\n",
        "\n",
        "  elif mts >= 19 and mts <= 28:\n",
        "    calc = lambda m:(m-18)*0.45+6\n",
        "    print(\"cuota de 19 - 28\")\n",
        "    print(\"Total $:\", calc(mts), \"\\n\")\n",
        "    respuesta = input(\"Deseas seguir viendo el menu \")\n",
        "\n",
        "  elif mts >= 29:\n",
        "    calc = lambda m:(m-28)*0.65+(28-18)*0.45+6\n",
        "    print(\"cuota de 29 en adelante\")\n",
        "    print(\"Total $:\", calc(mts), \"\\n\")\n",
        "    respuesta = input(\"Deseas seguir viendo el menu \")\n",
        "print(\"Saliste del menu\")"
      ],
      "metadata": {
        "id": "mFJOP_0jUcQG"
      },
      "execution_count": null,
      "outputs": []
    },
    {
      "cell_type": "markdown",
      "source": [
        "Conversor de divisas...\n",
        "Dolares, Quetzales, Lempiras, Cordobas, Pesos CR, Euros, Colon SV, Yenes, Soles peruanos."
      ],
      "metadata": {
        "id": "Uxl1-eOw3qRt"
      }
    },
    {
      "cell_type": "code",
      "source": [
        "divisas = [\"Seleccione una divisa\", \"Dolares\", \"Quetzales\", \"Lempiras\", \"Cordobas\", \"Pesos CR\", \"Euros\", \"Colon SV\", \"Yenes\", \"Soles Peruanos\"]\n",
        "valores = [0, 1, 7.71, 24.51, 35.77, 664.64, 0.98, 8.75, 134.13, 3.84]"
      ],
      "metadata": {
        "id": "O2G1e9iL4Acc"
      },
      "execution_count": null,
      "outputs": []
    },
    {
      "cell_type": "code",
      "source": [
        "def convertir(de, a, cantidad):\n",
        "  return valores[a] / valores[de] * cantidad"
      ],
      "metadata": {
        "id": "skvT92VH7UlW"
      },
      "execution_count": null,
      "outputs": []
    },
    {
      "cell_type": "code",
      "source": [
        "print(\"*** MENU ***\")\n",
        "print(\"SELECCIONE UNA DIVISA\")\n",
        "print(\"1. Dolares\")\n",
        "print(\"2. Quetzales\")\n",
        "print(\"3. Lempiras\")\n",
        "print(\"4. Cordobas\")\n",
        "print(\"5. Pesos CR\")\n",
        "print(\"6. Euros\")\n",
        "print(\"7. Colon SV\")\n",
        "print(\"8. Yenes\")\n",
        "print(\"9. Soles Peruanos\")"
      ],
      "metadata": {
        "colab": {
          "base_uri": "https://localhost:8080/"
        },
        "id": "PulpEut445S6",
        "outputId": "f6e6ea71-4711-46c2-a1f0-252f80faee42"
      },
      "execution_count": null,
      "outputs": [
        {
          "output_type": "stream",
          "name": "stdout",
          "text": [
            "*** MENU ***\n",
            "SELECCIONE UNA DIVISA\n",
            "1. Dolares\n",
            "2. Quetzales\n",
            "3. Lempiras\n",
            "4. Cordobas\n",
            "5. Pesos CR\n",
            "6. Euros\n",
            "7. Colon SV\n",
            "8. Yenes\n",
            "9. Soles Peruanos\n"
          ]
        }
      ]
    },
    {
      "cell_type": "code",
      "source": [
        "de = int(input(\"De: \"))\n",
        "a = int(input(\"A: \"))\n",
        "cantidad = float(input(\"Cantidad: \"))\n",
        "\n",
        "print(divisas[de], \"a\", divisas[a], \"es\", convertir(de, a, cantidad))"
      ],
      "metadata": {
        "colab": {
          "base_uri": "https://localhost:8080/"
        },
        "id": "3b-Z9H-D8lDT",
        "outputId": "4dacc76c-d8ed-4962-93df-0a276a237bfe"
      },
      "execution_count": null,
      "outputs": [
        {
          "output_type": "stream",
          "name": "stdout",
          "text": [
            "De: 6\n",
            "A: 2\n",
            "Cantidad: 10\n",
            "Euros a Quetzales es 78.6734693877551\n"
          ]
        }
      ]
    }
  ]
}