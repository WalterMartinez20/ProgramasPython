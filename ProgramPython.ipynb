{
  "nbformat": 4,
  "nbformat_minor": 0,
  "metadata": {
    "colab": {
      "name": "ProgramPython.ipynb",
      "provenance": [],
      "collapsed_sections": [],
      "authorship_tag": "ABX9TyPq+Jzyy8h+tIigKLhnRya8",
      "include_colab_link": true
    },
    "kernelspec": {
      "name": "python3",
      "display_name": "Python 3"
    },
    "language_info": {
      "name": "python"
    }
  },
  "cells": [
    {
      "cell_type": "markdown",
      "metadata": {
        "id": "view-in-github",
        "colab_type": "text"
      },
      "source": [
        "<a href=\"https://colab.research.google.com/github/WalterMartinez20/ProgramasPython/blob/main/ProgramPython.ipynb\" target=\"_parent\"><img src=\"https://colab.research.google.com/assets/colab-badge.svg\" alt=\"Open In Colab\"/></a>"
      ]
    },
    {
      "cell_type": "code",
      "execution_count": null,
      "metadata": {
        "id": "jKExNV0SwYFl"
      },
      "outputs": [],
      "source": [
        "print(\"Hola Mundo\", \"Bienvenidos a programacion computacional III\", \"Walter Martinez - SMIS133220\")"
      ]
    },
    {
      "cell_type": "code",
      "source": [
        "nombre = \"Walter Alberto Martinez Medrano\"\n",
        "print(\"Hola\", nombre, nombre[2], type(nombre))\n",
        "\n",
        "nombre = 25\n",
        "print(\"Tu edad es:\", type(nombre))"
      ],
      "metadata": {
        "id": "3jP46raTw62x"
      },
      "execution_count": null,
      "outputs": []
    },
    {
      "cell_type": "code",
      "source": [
        "programacion = True\n",
        "diseno = False\n",
        "print(\"Te gusta Progra\", programacion, \"Te gusta diseño\", diseno, type(programacion))"
      ],
      "metadata": {
        "id": "MkhKwr9LlA0m"
      },
      "execution_count": null,
      "outputs": []
    },
    {
      "cell_type": "code",
      "source": [
        "edad = int(input(\"Dime tu edad: \"))\n",
        "if edad >= 18: #Esta comparacion da un valor booleano\n",
        "  print(\"Eres un adulto, tienes responsabilidades...\")\n",
        "else:\n",
        "  print(\"Eres libre\")"
      ],
      "metadata": {
        "id": "FMOuzB66lLrN"
      },
      "execution_count": null,
      "outputs": []
    },
    {
      "cell_type": "code",
      "source": [
        "def suma(num1, num2):\n",
        "  resp = num1 + num2\n",
        "  return resp\n",
        "print(\"La suma es: \", suma(5,6))"
      ],
      "metadata": {
        "id": "qCc0ePGkU6X2"
      },
      "execution_count": null,
      "outputs": []
    },
    {
      "cell_type": "code",
      "source": [
        "sumaNumeros = lambda num1, num2: num1 + num2 #funciones anonimas\n",
        "print(\"Suma:\", sumaNumeros(4, 6))"
      ],
      "metadata": {
        "id": "81rdJFIdVZfg"
      },
      "execution_count": null,
      "outputs": []
    },
    {
      "cell_type": "code",
      "source": [
        "def cuadrado(num):\n",
        "  return num**2\n",
        "\n",
        "def cubo(num):\n",
        "  return num**3\n",
        "\n",
        "numeros = [5,4,7,8,-4,-9] #array unidimensional\n",
        "\n",
        "numCuadrado = list(map(cuadrado, numeros))\n",
        "numxDos = list(map(lambda num: num*2, numeros))\n",
        "numCubo = list(map(cubo, numeros))\n",
        "\n",
        "print(\"Elevar al cuadrado:\", numCuadrado, \"x2:\", numxDos, \"x3:\", numCubo)\n"
      ],
      "metadata": {
        "id": "_6PJz3dQVt9h"
      },
      "execution_count": null,
      "outputs": []
    },
    {
      "cell_type": "code",
      "source": [
        "def pares(num):\n",
        "  return num%2==0\n",
        "\n",
        "pares = list(filter(pares, numeros)) #usando filter dejamos solo los pares\n",
        "print(\"pares\",pares)\n",
        "\n",
        "def impares(num):\n",
        "  return num%2!=0\n",
        "\n",
        "impares = list(filter(impares, numeros))\n",
        "print(\"impares\",impares)"
      ],
      "metadata": {
        "id": "nWjuVK-6cWsj"
      },
      "execution_count": null,
      "outputs": []
    },
    {
      "cell_type": "code",
      "source": [
        "#conversor de celsius a farenheit\n",
        "def cF(C):\n",
        "  return C * 9/5 + 32\n",
        "\n",
        "c = float(input(\"Grados C: \"))\n",
        "print(\"Grados C a Farenheit:\", cF(c), \"°F\")"
      ],
      "metadata": {
        "id": "SGiU14n_u2MO"
      },
      "execution_count": null,
      "outputs": []
    },
    {
      "cell_type": "code",
      "source": [
        "#convertir celsius a farenheit con lambda\n",
        "convertirF = lambda C: C * 9/5 + 32\n",
        "\n",
        "celsius = float(input(\"Grados C: \"))\n",
        "\n",
        "print(\"Grados C a Farenheit:\", convertirF(celsius), \"°F\")"
      ],
      "metadata": {
        "id": "T4Q9-A0dwy4C"
      },
      "execution_count": null,
      "outputs": []
    },
    {
      "cell_type": "code",
      "source": [
        "gradosC = [27,30,35,40,45]\n",
        "grados = lambda c: c * 1.8 + 32\n",
        "farenheit = list(map(grados, gradosC))\n",
        "print(farenheit)"
      ],
      "metadata": {
        "id": "KY8pX3ka0wgs"
      },
      "execution_count": null,
      "outputs": []
    },
    {
      "cell_type": "code",
      "source": [
        "#convertir de farenheit a celsius\n",
        "gradosF = [80.6, 86.0, 95.0, 104.0, 113.0]\n",
        "grados = lambda F: (F-32) * 5/9\n",
        "celsius = list(map(grados, gradosF))\n",
        "print(celsius)"
      ],
      "metadata": {
        "id": "Lz8oTSYd3_nW"
      },
      "execution_count": null,
      "outputs": []
    },
    {
      "cell_type": "code",
      "source": [
        "#Hacer un algoritmo en python que convierta de Celsius a Kelvin y viceversa\n",
        "#Celsius a Kelvin\n",
        "convertirK = lambda C: C + 273.15\n",
        "celsius = float(input(\"Celsius: \"))\n",
        "print(\"Celsius a Kelvin:\", convertirK(celsius), \"K\")"
      ],
      "metadata": {
        "id": "l0oLPnWr6Ql6"
      },
      "execution_count": null,
      "outputs": []
    },
    {
      "cell_type": "code",
      "source": [
        "#Kelvin a Celsius\n",
        "convertirC = lambda K: K - 273.15\n",
        "kelvin = float(input(\"Kelvin: \"))\n",
        "print(\"Kelvin a Celsius:\", convertirC(kelvin), \"C\")"
      ],
      "metadata": {
        "id": "oz_VHvpM2Sjt"
      },
      "execution_count": null,
      "outputs": []
    },
    {
      "cell_type": "code",
      "source": [
        "numeros = [5,7,9,6,8,7,3] #Se declara y usa con corchetes\n",
        "print(\"Lista original\", \" Buscando:\", numeros[numeros.index(3)], numeros[0])\n",
        "numeros[0] = 4\n",
        "print(\"Nuevo valor: \", numeros[0])"
      ],
      "metadata": {
        "id": "5kIC8av4nL8C"
      },
      "execution_count": null,
      "outputs": []
    },
    {
      "cell_type": "code",
      "source": [
        "edades = (2,5,12,18,65,100) #Una tupla es inmutable, se declara con parentesis\n",
        "print(\"Las edades:\", edades, edades[0])\n",
        "#edades[0] = 0 #NO puedo cambiar su valor, y se usa con corchetes\n",
        "print(\"Nuevo Valor\", edades[0])"
      ],
      "metadata": {
        "colab": {
          "base_uri": "https://localhost:8080/"
        },
        "id": "oohCv96ungYO",
        "outputId": "6afda8dc-333b-4494-884b-bee6131a276f"
      },
      "execution_count": null,
      "outputs": [
        {
          "output_type": "stream",
          "name": "stdout",
          "text": [
            "Las edades: (2, 5, 12, 18, 65, 100) 2\n",
            "Nuevo Valor 2\n"
          ]
        }
      ]
    },
    {
      "cell_type": "code",
      "source": [
        "print(\"Edades:\", edades, \"Filtrar solo mayores de edad:\", tuple(filter(lambda num: num>=18, edades)))"
      ],
      "metadata": {
        "id": "jjOkX-AToBOV"
      },
      "execution_count": null,
      "outputs": []
    },
    {
      "cell_type": "code",
      "source": [
        "buscando = int(input(\"Valor: \"))\n",
        "print(\"Edades: \", edades, \"Buscando el numero:\", buscando, \"esta en la posicion:\", edades.index(buscando))"
      ],
      "metadata": {
        "id": "mtFltV00n8uL"
      },
      "execution_count": null,
      "outputs": []
    },
    {
      "cell_type": "code",
      "source": [
        "notas = [5, 4, 10, 7.8, 9]\n",
        "print(\"Mis Notas:\", notas, \"Notas sobresalientes:\", list(filter(lambda n:n>=9, notas)))"
      ],
      "metadata": {
        "id": "qR5dkyxqoF2X"
      },
      "execution_count": null,
      "outputs": []
    },
    {
      "cell_type": "code",
      "source": [
        "notasCiclo = [\n",
        "    [5,6,6],\n",
        "    [8,7,10],\n",
        "    [10,10,10]\n",
        "]\n",
        "print(\"Mis Notas\", notasCiclo, \"C1:\", notasCiclo[0], \"C2:\", notasCiclo[1], \"C3:\", notasCiclo[2], \"PC1:\", notasCiclo[0][2])"
      ],
      "metadata": {
        "id": "G6GNgY5PoI1X"
      },
      "execution_count": null,
      "outputs": []
    },
    {
      "cell_type": "code",
      "source": [
        "materias = [\n",
        "    [ #Progra\n",
        "      [5,6,[10,8]],#c1\n",
        "      [5,7,8],#c2\n",
        "      [6,7,6] #c3\n",
        "    ],\n",
        "    [ #Diseño\n",
        "      [10,9,10], #c1\n",
        "      [10,10,8], #c2\n",
        "      [10,10,10] #c3\n",
        "    ],\n",
        "    [ #Redes\n",
        "      [8,7,8], #c1\n",
        "      [7,9.23,9], #c2\n",
        "      [8,7,9]  #c3\n",
        "    ]\n",
        "]\n",
        "print(\"Progra: C1 - P\", (materias[0][0][2][0] + materias[0][0][2][1])/2, \"; Redes C2, Lab2:\", materias[2][1][1])"
      ],
      "metadata": {
        "id": "Oza_Y6oBoTLQ"
      },
      "execution_count": null,
      "outputs": []
    },
    {
      "cell_type": "code",
      "source": [
        "misMaterias = {} #los diccionarios (json) se definen con llaves y se usan con corchetes\n",
        "misNotas = {\n",
        "    \"Progra I\":{\n",
        "        \"CI\": {\n",
        "            \"Lab1\": 5,\n",
        "            \"Lab2\": 6,\n",
        "            \"Parcial\": [10,8]\n",
        "        },\n",
        "        \"CII\":{\n",
        "            \"Lab1\": 5,\n",
        "            \"Lab2\": 7,\n",
        "            \"Parcial\": 8\n",
        "        },\n",
        "        \"CIII\":{\n",
        "            \"Lab1\":6,\n",
        "            \"Lab2\":7,\n",
        "            \"Parcial\":6\n",
        "        }\n",
        "    },\n",
        "    \"Diseño\":{\n",
        "        \"CI\": {\n",
        "            \"Lab1\": 10,\n",
        "            \"Lab2\": 9,\n",
        "            \"Parcial\": 10\n",
        "        },\n",
        "        \"CII\":{\n",
        "            \"Lab1\": 10,\n",
        "            \"Lab2\": 10,\n",
        "            \"Parcial\": 8\n",
        "        },\n",
        "        \"CIII\":{\n",
        "            \"Lab1\":10,\n",
        "            \"Lab2\":10,\n",
        "            \"Parcial\":10\n",
        "        }\n",
        "    }\n",
        "}\n",
        "print(misNotas[\"Progra I\"][\"CI\"][\"Parcial\"], misNotas[\"Diseño\"][\"CII\"][\"Lab2\"])"
      ],
      "metadata": {
        "id": "4nr2G5X3oe0O"
      },
      "execution_count": null,
      "outputs": []
    },
    {
      "cell_type": "code",
      "source": [
        "#Conversores: (40%) (10 ítems como mínimo por cada uno). Monedas (Resuelto en clases)\n",
        "\n",
        "respuesta = input(\"Ver menu:\\n\")\n",
        "while respuesta == \"si\":\n",
        "\n",
        "  monedas = [\"dolares\", \"quetzales\", \"pesos mexicanos\", \"colon Salvadoreño\", \"pesos argentinos\", \"pesos chilenos\", \"pesos colombianos\", \"pesos uruguayos\", \"lempiras\", \"Yenes\"]\n",
        "  print(\"-\"*40)\n",
        "  for i in monedas:\n",
        "    print(i)\n",
        "\n",
        "  print(\"-\"*40)\n",
        "  print(\"Escribe la moneda que deseas convertir:\")\n",
        "  mo1 = input(\"Pasar de: \")\n",
        "  val1 = float(input(\"Escribe la cantidad de \" + mo1 + \" \\n\"))\n",
        "\n",
        "  if mo1 == \"dolares\":\n",
        "    mo2 = input(\"convertir a: \")\n",
        "\n",
        "    if mo2 == \"quetzales\":\n",
        "      conver = lambda D: D * 7.74\n",
        "      print(val1, \"dolar/es es igual a\", conver(val1), mo2)\n",
        "      respuesta = input(\"Deseas seguir viendo el menu \")\n",
        "\n",
        "  elif mo1 == \"quetzales\":\n",
        "    mo2 = input(\"convertir a: \")\n",
        "\n",
        "    if mo2 == \"pesos mexicanos\":\n",
        "      conver = lambda D: D * 2.57\n",
        "      print(val1, mo1, \"es igual a\", conver(val1), mo2)\n",
        "      respuesta = input(\"Deseas seguir viendo el menu \")\n",
        "\n",
        "  elif mo1 == \"pesos mexicanos\":\n",
        "    mo2 = input(\"convertir a: \")\n",
        "\n",
        "    if mo2 == \"colones salvadoreños\":\n",
        "      conver = lambda D: D * 0.44\n",
        "      print(val1, mo1, \"es igual a\", conver(val1), mo2)\n",
        "      respuesta = input(\"Deseas seguir viendo el menu \")\n",
        "\n",
        "  elif mo1 == \"colones salvadoreños\":\n",
        "    mo2 = input(\"convertir a: \")\n",
        "\n",
        "    if mo2 == \"pesos argentinos\":\n",
        "      conver = lambda D: D * 15.47\n",
        "      print(val1, mo1, \"es igual a\", conver(val1), mo2)\n",
        "      respuesta = input(\"Deseas seguir viendo el menu \")\n",
        "\n",
        "\n",
        "  elif mo1 == \"pesos argentinos\":\n",
        "    mo2 = input(\"convertir a: \")\n",
        "\n",
        "    if mo2 == \"pesos chilenos\":\n",
        "      conver = lambda D: D * 6.52\n",
        "      print(val1, mo1, \"es igual a\", conver(val1), mo2)\n",
        "      respuesta = input(\"Deseas seguir viendo el menu \")\n",
        "\n",
        "\n",
        "  elif mo1 == \"pesos chilenos\":\n",
        "    mo2 = input(\"convertir a: \")\n",
        "\n",
        "    if mo2 == \"pesos colombianos\":\n",
        "      conver = lambda D: D * 4.81\n",
        "      print(val1, mo1, \"es igual a\", conver(val1), mo2)\n",
        "      respuesta = input(\"Deseas seguir viendo el menu \")\n",
        "\n",
        "\n",
        "  elif mo1 == \"pesos colombianos\":\n",
        "    mo2 = input(\"convertir a: \")\n",
        "\n",
        "    if mo2 == \"pesos uruguayos\":\n",
        "      conver = lambda D: D * 0.0097\n",
        "      print(val1, mo1, \"es igual a\", conver(val1), mo2)\n",
        "      respuesta = input(\"Deseas seguir viendo el menu \")\n",
        "\n",
        "\n",
        "  elif mo1 == \"pesos uruguayos\":\n",
        "    mo2 = input(\"convertir a: \")\n",
        "\n",
        "    if mo2 == \"lempiras\":\n",
        "      conver = lambda D: D * 0.61\n",
        "      print(val1, mo1, \"es igual a\", conver(val1), mo2)\n",
        "      respuesta = input(\"Deseas seguir viendo el menu \")\n",
        "\n",
        "\n",
        "  elif mo1 == \"lempiras\":\n",
        "    mo2=input(\"convertir a: \")\n",
        "\n",
        "    if mo2 == \"Yenes\":\n",
        "      conver = lambda D: D * 5.47\n",
        "      print(val1, mo1, \"es igual a\", conver(val1), mo2)\n",
        "      respuesta = input(\"Deseas seguir viendo el menu \")\n",
        "\n",
        "  else: print(\"Moneda no valida\")\n",
        "print(\"Has salido del menu\")"
      ],
      "metadata": {
        "id": "XTQXxhys5c70"
      },
      "execution_count": null,
      "outputs": []
    },
    {
      "cell_type": "markdown",
      "source": [
        "Conversor de divisas...\n",
        "Dolares, Quetzales, Lempiras, Cordobas, Pesos CR, Euros, Colon SV, Yenes, Soles peruanos."
      ],
      "metadata": {
        "id": "Uxl1-eOw3qRt"
      }
    },
    {
      "cell_type": "code",
      "source": [
        "divisas = [\"Seleccione una divisa\", \"Dolares\", \"Quetzales\", \"Lempiras\", \"Cordobas\", \"Pesos CR\", \"Euros\", \"Colon SV\", \"Yenes\", \"Soles Peruanos\"]\n",
        "valores = [0, 1, 7.71, 24.51, 35.77, 664.64, 0.98, 8.75, 134.13, 3.84]"
      ],
      "metadata": {
        "id": "O2G1e9iL4Acc"
      },
      "execution_count": null,
      "outputs": []
    },
    {
      "cell_type": "code",
      "source": [
        "def convertir(de, a, cantidad):\n",
        "  return valores[a] / valores[de] * cantidad"
      ],
      "metadata": {
        "id": "skvT92VH7UlW"
      },
      "execution_count": null,
      "outputs": []
    },
    {
      "cell_type": "code",
      "source": [
        "print(\"*** MENU ***\")\n",
        "print(\"SELECCIONE UNA DIVISA\")\n",
        "print(\"1. Dolares\")\n",
        "print(\"2. Quetzales\")\n",
        "print(\"3. Lempiras\")\n",
        "print(\"4. Cordobas\")\n",
        "print(\"5. Pesos CR\")\n",
        "print(\"6. Euros\")\n",
        "print(\"7. Colon SV\")\n",
        "print(\"8. Yenes\")\n",
        "print(\"9. Soles Peruanos\")"
      ],
      "metadata": {
        "id": "PulpEut445S6"
      },
      "execution_count": null,
      "outputs": []
    },
    {
      "cell_type": "code",
      "source": [
        "de = int(input(\"De: \"))\n",
        "a = int(input(\"A: \"))\n",
        "cantidad = float(input(\"Cantidad: \"))\n",
        "\n",
        "print(divisas[de], \"a\", divisas[a], \"es:\", convertir(de, a, cantidad))"
      ],
      "metadata": {
        "id": "3b-Z9H-D8lDT"
      },
      "execution_count": null,
      "outputs": []
    },
    {
      "cell_type": "code",
      "source": [
        "#if dondicional si\n",
        "edad = int(input(\"Dime tu edad: \"))\n",
        "if(edad <= 2):\n",
        "  print(\"Eres un bebe\")\n",
        "elif(edad < 12):\n",
        "  print(\"Edad un niño\")\n",
        "elif (edad < 18):\n",
        "  print(\"Eres un adolescente\")\n",
        "elif(edad < 65):\n",
        "  print(\"Eres mayor de edad, tienes responsabilidades\")\n",
        "elif(edad < 80):\n",
        "  print(\"Eres un adulto mayor\")\n",
        "else:\n",
        "  print(\"Larga vida\")"
      ],
      "metadata": {
        "id": "1xsKpefw06pk"
      },
      "execution_count": null,
      "outputs": []
    },
    {
      "cell_type": "code",
      "source": [
        "#Ciclos, while y for\n",
        "#obtenga la tabla de multiplicar de x numero dada por el usuario\n",
        "#while\n",
        "ntabla = int(input(\"Tabla: \"))\n",
        "i = 1\n",
        "while(i <= 10):\n",
        "  print(ntabla, \"X\", i, \"=\", ntabla * i)\n",
        "  i+=1"
      ],
      "metadata": {
        "id": "ojDzHePG07i7"
      },
      "execution_count": null,
      "outputs": []
    },
    {
      "cell_type": "code",
      "source": [
        "ntabla = int(input(\"Tabla: \"))\n",
        "for i in range(1, 11):\n",
        "  print(ntabla, \"X\", i, \"=\", ntabla * i)"
      ],
      "metadata": {
        "id": "nTz8U6s-0-JU"
      },
      "execution_count": null,
      "outputs": []
    },
    {
      "cell_type": "code",
      "source": [
        "#Hacer un programa en python que genera la tabla de multiplicar dada por el usuario, hasta que el usuario desida salir\n",
        "s = \"s\"\n",
        "while s == \"s\":\n",
        "  ntabla = int(input(\"Tabla: \"))\n",
        "  for i in range(1, 11):\n",
        "    print(ntabla, \"X\", i, \"=\", ntabla * i)\n",
        "  s = input(\"Continuar s, cualquier otra tecla para salir \")\n",
        "print(\"Salistes...\")"
      ],
      "metadata": {
        "id": "4INf-F-j1CCL"
      },
      "execution_count": null,
      "outputs": []
    },
    {
      "cell_type": "markdown",
      "source": [
        "**Ejercicios de tarea semana 5.**"
      ],
      "metadata": {
        "id": "IBj3g9eAjSj9"
      }
    },
    {
      "cell_type": "code",
      "source": [
        "#Calcular sobre el sueldo las deducciones por ley ISSS (3%), AFP(6.25%), ISR(Según tabla) e imprima el total deducciones y sueldo neto. (20%)\n",
        "#salario = float(input(\"Escribe tu salario\"))\n",
        "\n",
        "def calcrDeduc(sa):\n",
        "\n",
        "  if sa >= 1000:\n",
        "    Iss = 30.00\n",
        "  else: \n",
        "    Iss = round(sa * 0.03, 2)\n",
        "\n",
        "  Afp = round(sa * 0.0625, 2)\n",
        "  Isr = sa - Iss - Afp\n",
        "  if Isr >= 0.01 and Isr <= 472.00:  \n",
        "    totalIsr = 0.00\n",
        "    salNetoMen = sa - Iss - Afp - totalIsr\n",
        "    #print(\"Primer tramo desde $0.01 hasta $472.00\")\n",
        "    print(\"No pagas renta\")\n",
        "\n",
        "  #Isr = sa - Iss - Afp #Ejem: 600-18(iss)-43.50(afp) -> 538.50 - sobreexcedente(472.00)=66.00 -> 66.00*(tas porcen)10%=6.60 ->6.60+(cuota fija)17.67=24.27 ISR\n",
        "\n",
        "  elif Isr >= 472.01 and Isr <= 895.24:\n",
        "    sobreExceso = 472.00 #valor sobre exceso por tramo\n",
        "    PorcApli = 0.1 #porcentaje aplicado por tramo\n",
        "    cuota = 17.67 #Cuota fija aplicado por tramo\n",
        "\n",
        "    totalIsr = round((Isr - sobreExceso), 2)\n",
        "    totalIsr = round((totalIsr * PorcApli)+cuota, 2)\n",
        "    print(\"Segundo tramo desde $472.01 hasta $895.24\")\n",
        "    salNetoMen = round(sa - Iss - Afp - totalIsr, 2)\n",
        "\n",
        "  elif Isr >= 895.25 and Isr <= 2038.10:\n",
        "    sobreExceso = 895.24 \n",
        "    PorcApli = 0.2\n",
        "    cuota = 60.00 \n",
        "\n",
        "    totalIsr = round((Isr - sobreExceso), 2)\n",
        "    totalIsr = round((totalIsr * PorcApli)+cuota, 2)\n",
        "    print(\"Tercer tramo desde $895.25 hasta $2,038.10\")\n",
        "    salNetoMen = round(sa - Iss - Afp - totalIsr, 2)\n",
        "\n",
        "  elif Isr >= 2038.11:\n",
        "    sobreExceso = 2038.10 \n",
        "    PorcApli = 0.3 \n",
        "    cuota = 288.57\n",
        "\n",
        "    totalIsr = round((Isr - sobreExceso), 2)\n",
        "    totalIsr = round((totalIsr * PorcApli)+cuota, 2)\n",
        "    print(\"Cuarto tramo desde $2,038.11 En adelante\")\n",
        "    salNetoMen = round(sa - Iss - Afp - totalIsr, 2)\n",
        "\n",
        "  print(\"-\"*30)\n",
        "  print(\"AFP:\", Afp, \"\\nISS:\", Iss, \"\\nISR (Renta):\", totalIsr, \"\\nSalario neto mensual:\", salNetoMen)\n",
        "  print(\"-\"*30)\n",
        "\n",
        "calcrDeduc(550)"
      ],
      "metadata": {
        "id": "doeDiuBltC-H"
      },
      "execution_count": null,
      "outputs": []
    },
    {
      "cell_type": "code",
      "source": [
        "#Calcular el valor a pagar según el número de metros consumidos de agua potable (Ver tabla en la siguiente diapositiva). (20%)\n",
        "respuesta = input(\"Ver menu:\\n\")\n",
        "while respuesta == \"si\":\n",
        "  mts = int(input(\"Escribe la cantida de metros consumidos: \"))\n",
        "  if mts >= 1 and mts <= 18:\n",
        "    calc = lambda m:m*6\n",
        "    print(\"cuota de 1 - 18\")\n",
        "    print(\"Total $:\", calc(mts), \"\\n\")\n",
        "    respuesta = input(\"Deseas seguir viendo el menu: \")\n",
        "\n",
        "  elif mts >= 19 and mts <= 28:\n",
        "    calc = lambda m:(m-18)*0.45+6\n",
        "    print(\"cuota de 19 - 28\")\n",
        "    print(\"Total $:\", calc(mts), \"\\n\")\n",
        "    respuesta = input(\"Deseas seguir viendo el menu: \")\n",
        "\n",
        "  elif mts >= 29:\n",
        "    calc = lambda m :(m-28)*0.65+(28-18)*0.45+6\n",
        "    print(\"cuota de 29 en adelante\")\n",
        "    print(\"Total $:\", calc(mts), \"\\n\")\n",
        "    respuesta = input(\"Deseas seguir viendo el menu: \")\n",
        "print(\"Saliste del menu\")"
      ],
      "metadata": {
        "id": "mFJOP_0jUcQG"
      },
      "execution_count": null,
      "outputs": []
    },
    {
      "cell_type": "code",
      "source": [
        "#Desarrolle la tabla de meses acumulados a n meses. Si puede encontrar la formula matemática para evitar ciclos. (10%)\n",
        "\n",
        "mes = int(input(\"Escriba cuantos meses va a pagar: \"))\n",
        "def sum(mes):\n",
        "  n = mes\n",
        "  formula = n * (n + 1) / 2\n",
        "  total = formula\n",
        "  print(\"Mes:\", n, \"\\nAcumulado:\", total)\n",
        "\n",
        "sum(mes)"
      ],
      "metadata": {
        "id": "gSNe6S4f3qKH"
      },
      "execution_count": null,
      "outputs": []
    },
    {
      "cell_type": "code",
      "source": [
        "#Conversores. (40%)\n",
        "\n",
        "def convertir(conversor, de, a, cantidad):\n",
        "  return valores[conversor][a] / valores[conversor][de] * cantidad\n",
        "  \n",
        "etiquetas = [[],\n",
        "    [\"Seleccione una divisa\", \"1. Dolares\", \"2. Quetzales\", \"3. Lempiras\", \"4. Cordobas\", \"5. Pesos CR\", #Monedas\n",
        "              \"6. Euros\", \"7. Colon SV\",\"8. Yenes\", \"9. Soles Peruanos\", \"10. Pesos Mexicanos\"\n",
        "    ],\n",
        "    [\"Seleccione una unidad de medida\", \"1. Metro\", \"2. Milimetro\", \"3. Centimetro\", # Longitud\n",
        "              \"4. Pie\", \"5. Varas\", \"6. Yardas\", \"7. Kilometros\", \"8. Millas\", \"9. Micrometro\", \"10. Nanometro\",\n",
        "    ],\n",
        "    [\"Selecciona una unidad de medida:\", \"1. Tonelada\", \"2. Kilogramo\", \"3. Gramo\", \"4. Centigramo\", #Masa\n",
        "              \"5. Miligramo\", \"6. Microgramo\", \"7. Tonelada corta\", \"8. Stone\", \"9. Libra\", \"10. Onza\"\n",
        "    ],\n",
        "    [\"Seleccione una unidad de medida\", \"1. Pebibyte\", \"2. Petabyte\", \"3. Tetibyte\", \"4. Terabyte\", \"5. Gibibyte\", #Almacenamiento\n",
        "              \"6. Gigabyte\", \"7. Mebibyte\", \"8. Megabyte\", \"9. Kibibyte\", \"10. Kilobyte\", \"11. Byte\"\n",
        "    ],\n",
        "    [\"Selecciona una unidad de medida:\", \"1. Siglo\", \"2. Decada\", \"3. Año natural\", \"4. Mes\", \"5. Semana\", #Tiempo\n",
        "              \"6. Dia\", \"7. Hora\", \"8. Minuto\", \"9. Segundo\", \"10. Milisegundo\"\n",
        "    ],\n",
        "    [\"Selecciona una unidad de medida:\", \"1. Metro cubico\", \"2. Litro\", \"3. Mililitro\", \"4. Galon imperial\", \"5. Cuarto imperial\", #Volumen\n",
        "              \"6. Pinta imperial\", \"7. Taza imperial\", \"8. Onza liquida imperial\", \"9. Cucharada imperial\", \"10. Cucharadita imperial\"   \n",
        "    ],\n",
        "    [\"Selecciona una unidad de medida:\", \"1. Kilometro cuadrado\", \"2. Metro cuadrado\", \"3. Milla cuadrada\", \"4. Yarda cuadrada\", \"5. Pie cuadrado\", #Area, Manzanas, Tareas\n",
        "              \"6. Pulgada cuadrada\", \"7. Hectarea\", \"8. Acre\", \"9. Tareas\", \"10. Manzanas\"\n",
        "    ]\n",
        "    ] \n",
        "\n",
        "valores =[[],\n",
        "          [0, 1, 7.71, 24.51, 35.77, 664.64, 0.98, 8.75, 134.13, 3.84, 19.89], #Monedas\n",
        "          [0, 1, 1000, 100, 3.28084, 1.1963081929167, 1.0936133, 0.001, 0.000621371, 1e+6, 1e+9], #Longitudes\n",
        "          [0, 1, 1000, 1e+6, 1e+8, 1e+9, 1e+12, 1.102, 157.5, 2205, 35270], #Masa\n",
        "          [0, 1, 1.126, 1024, 1126, 1.049e+6, 1.126e+6, 1.074e+9, 1.126e+9, 1.1e+12, 1.126e+12, 1.126e+15], #Almacenamiento\n",
        "          [0, 1, 10, 100, 1200, 5214, 36500, 876000, 5.256e+7, 3.154e+9, 3.154e+12], #Tiempo\n",
        "          [0, 1, 1000, 1e+6, 220, 879.9, 1760, 3520, 35200, 56310, 168900], #Volumen\n",
        "          [0, 1, 1e+6, 0.3861, 1.196e+6, 1.076e+7, 1.55e+9, 100, 247.1, 1590.3307888, 141.7] #Area, Manzanas, Tareas\n",
        "          ]\n",
        "\n",
        "opMenu = [\"Seleccione una divisa:\", \"1. Divisas\", \"2. Longitud\", \"3. Masa\", \"4. Almacenamiento\", \"5. Tiempo\", \"6. Volumen\", \"7. Area\\n\"]"
      ],
      "metadata": {
        "id": "tC8kgiG52S4z"
      },
      "execution_count": null,
      "outputs": []
    },
    {
      "cell_type": "code",
      "source": [
        "print(\"-\"*15 + \" Menu \" + \"-\"*15)\n",
        "for i in opMenu:\n",
        "  print(i)\n",
        "  \n",
        "opcion = int(input(\"Conversor: \"))\n",
        "print(\"Conversor elegido:\", etiquetas[opcion])\n",
        "\n",
        "de = int(input(\"DE: \"))\n",
        "a = int(input(\"A: \"))\n",
        "cantidad = int(input(\"Cantidad: \"))\n",
        "\n",
        "print(\"Conversion de\", etiquetas[opcion][de], \"a\", etiquetas[opcion][a], \"equivale a\", convertir(opcion, de, a, cantidad))"
      ],
      "metadata": {
        "id": "Kru9u8nWfsYK"
      },
      "execution_count": null,
      "outputs": []
    },
    {
      "cell_type": "code",
      "source": [
        "#Realizar un conversor propio, donde espesifique el valor de conversión: (10%)\n",
        "#1 caja -> 25 unidad. Viceversa 80 unidades – 3/5 -> cajas/unidades\n",
        "#1 saco -> 50 libras. Viceversa 130 libras – 2/30 -> sacos/libras\n",
        "#1 fardo -> 5 unidades. Viceversa 28 unidades – 5/3 -> fardos/unidades"
      ],
      "metadata": {
        "id": "bKEFP0ERunaV"
      },
      "execution_count": null,
      "outputs": []
    }
  ]
}